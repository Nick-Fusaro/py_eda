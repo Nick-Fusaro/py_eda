{
 "cells": [
  {
   "cell_type": "code",
   "execution_count": null,
   "metadata": {},
   "outputs": [],
   "source": [
    "import pandas as pd\n",
    "import wrangleutils as wr\n",
    "import glob as glob\n",
    "import os\n",
    "from collections import Counter\n",
    "%matplotlib inline"
   ]
  },
  {
   "cell_type": "code",
   "execution_count": null,
   "metadata": {},
   "outputs": [],
   "source": [
    "#Define the path to scored data sets\n",
    "path=\"\\\\path\"\n",
    "#Define the name of your current scored set \n",
    "##where '.' is the working directory (i.e. the directory you launched the notebook from)\n",
    "#Creates a list of all .csvs in  that file source\n",
    "csv_list=glob.glob(os.path.realpath('.')+ path +'\\\\*.csv')\n",
    "#Concats all CSVs in folder\n",
    "df=pd.concat(list(map(pd.read_csv, csv_list)))"
   ]
  },
  {
   "cell_type": "code",
   "execution_count": null,
   "metadata": {},
   "outputs": [],
   "source": [
    "#Look at the data types in this data set. Creates a meta data data frame\n",
    "meta_data=pd.DataFrame(df.dtypes)\n",
    "meta_data['name']=meta_data.index\n"
   ]
  },
  {
   "cell_type": "code",
   "execution_count": null,
   "metadata": {},
   "outputs": [],
   "source": [
    "#Record the original dimensions of the dataset before messing around with it \n",
    "original_dim=df.shape\n",
    "print(\"There are \" + str(original_dim[1]) + \" columns\" + \" and \"  + str(original_dim[0])+ \" rows in the original data\")"
   ]
  },
  {
   "cell_type": "code",
   "execution_count": null,
   "metadata": {},
   "outputs": [],
   "source": [
    "#Create a list of categorical variables\n",
    "cat_list= df.select_dtypes(include=['object'])\n",
    "\n",
    "#Delete any categorical vars from the list you\n",
    "#know you arent interested in\n",
    "#del cat_list[('variable')]\n",
    "\n",
    "#Create a list of floats\n",
    "float_list= list(df.select_dtypes(include=['float']))\n",
    "#Create a list of ints\n",
    "int_list= list(df.select_dtypes(include=['int64']))"
   ]
  },
  {
   "cell_type": "code",
   "execution_count": null,
   "metadata": {},
   "outputs": [],
   "source": [
    "#Checks wheher any float columns have a max of 0 and are useless\n",
    "max_zero=pd.DataFrame(df[float_list].columns[df[float_list].aggregate(max)==0])\n",
    "max_zero_list=list(df[float_list].columns[df[float_list].aggregate(max)==0])\n",
    "print(\"Warning - the following numeric columns have a maximum of 0:\")\n",
    "max_zero\n"
   ]
  },
  {
   "cell_type": "code",
   "execution_count": null,
   "metadata": {},
   "outputs": [],
   "source": [
    "#Drops the max zero list\n",
    "df.drop(max_zero_list, axis=1, inplace=True)\n",
    "#Drops the max zero list fom the float list for later analysis \n",
    "float_list =  [x for x in float_list if x not in max_zero_list]\n",
    "#Find the shape of the new data frame with the max 0 columns dropped \n",
    "new_dim=df.shape\n",
    "print( \"There were \"  + str(original_dim[1]) + \" columns and now are \" + str(new_dim[1]) + \" columns\")"
   ]
  },
  {
   "cell_type": "code",
   "execution_count": null,
   "metadata": {},
   "outputs": [],
   "source": [
    "#Drops the max zero list\n",
    "df.drop(max_zero_list, axis=1, inplace=True)\n",
    "#Drops the max zero list fom the float list for later analysis \n",
    "float_list =  [x for x in float_list if x not in max_zero_list]\n",
    "#Find the shape of the new data frame with the max 0 columns dropped \n",
    "new_dim=df.shape\n",
    "print( \"There were \"  + str(original_dim[1]) + \" columns and now are \" + str(new_dim[1]) + \" columns\")"
   ]
  },
  {
   "cell_type": "code",
   "execution_count": null,
   "metadata": {},
   "outputs": [],
   "source": [
    "#Function to do frequency anlysis\n",
    "def freq_iter(df, cols):\n",
    "    dflist = []\n",
    "    for i in cols:\n",
    "        series = df[i]\n",
    "        #Count the discrete values\n",
    "        type_count = [[k,v] for k,v in Counter(series).items()]\n",
    "        # Find the count of all discrete elements \n",
    "        j=pd.DataFrame.from_records(type_count, \n",
    "                                    index=range(len(type_count)), \n",
    "                                    columns=['value','frequency'])\n",
    "        j['percent'] = j.frequency/j.frequency.sum() \n",
    "        j['cumulative_frequency'] = j.frequency.cumsum()\n",
    "        j['cumulative_percent'] = j.cumulative_frequency/j.frequency.sum()\n",
    "        j.columns = [series.name + '_' + i for i in j.columns]\n",
    "        dflist.append(j)\n",
    "    return dflist"
   ]
  },
  {
   "cell_type": "code",
   "execution_count": null,
   "metadata": {},
   "outputs": [],
   "source": [
    "#Create a list with the frequency analysis function and displays the contents \n",
    "freq_iter_list = freq_iter(df, cat_list)\n",
    "for p in freq_iter_list: \n",
    "     display (p.iloc[:,[0,1,2]])"
   ]
  },
  {
   "cell_type": "code",
   "execution_count": null,
   "metadata": {},
   "outputs": [],
   "source": [
    "#Displays the variance if all the float columns\n",
    "ratio_of_std_to_mean=pd.DataFrame(df[float_list].std()) /pd.DataFrame(df[float_list].mean())\n",
    "#####\n",
    "#### Keep working on this part "
   ]
  },
  {
   "cell_type": "code",
   "execution_count": null,
   "metadata": {},
   "outputs": [],
   "source": [
    "#Calculates % missing by columns\n",
    "missing=pd.DataFrame(100* df.isna().sum() /len(df))\n",
    "missing['pct_missing']=missing[0]\n",
    "#Optional missing threshold\n",
    "threshold=20\n",
    "missing_above_threshold= missing[missing['pct_missing']>threshold]\n",
    "missing_above_threshold=pd.DataFrame(missing_above_threshold.iloc[:,1])\n",
    "\n",
    "#Shows all missing regardles sof threshold \n",
    "missing_above_zero= missing[missing['pct_missing']>0]\n",
    "missing_above_zero=pd.DataFrame(missing_above_zero.iloc[:,1])\n",
    "print(\"The following fields have missing values:\")\n",
    "missing_above_zero"
   ]
  },
  {
   "cell_type": "code",
   "execution_count": null,
   "metadata": {},
   "outputs": [],
   "source": [
    "print(\"Warning the following columns are missing more than 20 % of their values. Suggest either you bin, drop, or impute based on domain knowledge :\")\n",
    "missing_above_threshold"
   ]
  },
  {
   "cell_type": "code",
   "execution_count": null,
   "metadata": {},
   "outputs": [],
   "source": [
    "#This list has to be compiled manually, as far as I can tell.\n",
    "#I think that it is more effeicient to create a list of vars that should NOT\n",
    "#be coalesced to 0, then subtract that out to create the coalesce 0 list of fields\n",
    "\n",
    "bin_list = ['var1', 'var2', 'vark'] \n",
    "\n",
    "\n",
    "\n"
   ]
  },
  {
   "cell_type": "code",
   "execution_count": null,
   "metadata": {},
   "outputs": [],
   "source": [
    "#Converts the values of the missing above 0 dataframe to a list \n",
    "missing_above_zero_list = missing_above_zero.index.tolist()\n",
    "#Creates a list of variables (that arent in the binned list)\n",
    "#That have missing values that you want to replace with 0 \n",
    "zero_replace_list= [x for x in missing_above_zero_list if x not in bin_list]\n",
    "\n",
    "#Alters the base data frame by replacing the NaN with 0 in the specified columns above\n",
    "df[zero_replace_list]=df[zero_replace_list].fillna(0)\n",
    "print(\"Warning: the NaN with 0 replacement has been applied to the base dataframe\")"
   ]
  },
  {
   "cell_type": "code",
   "execution_count": null,
   "metadata": {},
   "outputs": [],
   "source": [
    "#Automatically converts variables in the bin list to bins"
   ]
  }
 ],
 "metadata": {
  "kernelspec": {
   "display_name": "Python 3",
   "language": "python",
   "name": "python3"
  },
  "language_info": {
   "codemirror_mode": {
    "name": "ipython",
    "version": 3
   },
   "file_extension": ".py",
   "mimetype": "text/x-python",
   "name": "python",
   "nbconvert_exporter": "python",
   "pygments_lexer": "ipython3",
   "version": "3.6.4"
  }
 },
 "nbformat": 4,
 "nbformat_minor": 2
}
